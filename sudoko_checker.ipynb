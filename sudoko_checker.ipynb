{
 "cells": [
  {
   "cell_type": "code",
   "execution_count": 2,
   "metadata": {},
   "outputs": [],
   "source": [
    "from math import sqrt"
   ]
  },
  {
   "cell_type": "code",
   "execution_count": 3,
   "metadata": {},
   "outputs": [],
   "source": [
    "N = 9 # no of rows, no of cols, no of digits\n",
    "SQ_N = sqrt(N)"
   ]
  },
  {
   "cell_type": "code",
   "execution_count": 4,
   "metadata": {},
   "outputs": [],
   "source": [
    "VALID_SET = set(range(1,N+1))"
   ]
  },
  {
   "cell_type": "code",
   "execution_count": 12,
   "metadata": {},
   "outputs": [],
   "source": [
    "def is_valid_square(mat, start_row, start_col):\n",
    "    current_set = {}\n",
    "    for i in range(start_row, start_row+SQ_N):\n",
    "        for j in range(start_col, start_col+SQ_N):\n",
    "            current_set.add(mat[i][j])\n",
    "    return current_set == VALID_SET\n",
    "\n",
    "def check_squares(mat):\n",
    "    is_valid_conf = True\n",
    "    start_row = 0\n",
    "    for i in range(SQ_N):\n",
    "        start_col = 0\n",
    "        for j in range(SQ_N):\n",
    "            is_valid_conf &= is_valid_square(mat, start_row, start_col)\n",
    "            start_col += SQ_N\n",
    "        start_row += SQ_N\n",
    "    return is_valid_conf"
   ]
  },
  {
   "cell_type": "code",
   "execution_count": 13,
   "metadata": {},
   "outputs": [],
   "source": [
    "def is_valid_row(mat, row_no):\n",
    "    current_set = {}\n",
    "    for i in range(N):\n",
    "        current_set.add(mat[row_no][i])\n",
    "    return current_set == VALID_SET\n",
    "\n",
    "def check_rows(mat):\n",
    "    valid_rows = True\n",
    "    for i in range(N):\n",
    "        "
   ]
  },
  {
   "cell_type": "code",
   "execution_count": 10,
   "metadata": {},
   "outputs": [],
   "source": [
    "def is_valid_configuration(mat):\n",
    "    \n",
    "    is_valid_conf = True\n",
    "    is_valid_conf &= check_squares(mat)"
   ]
  },
  {
   "cell_type": "code",
   "execution_count": 14,
   "metadata": {},
   "outputs": [],
   "source": [
    "def rotate(l, n):\n",
    "    return l[n:] + l[:n]"
   ]
  },
  {
   "cell_type": "code",
   "execution_count": 15,
   "metadata": {},
   "outputs": [
    {
     "name": "stdout",
     "output_type": "stream",
     "text": [
      "[[1, 2, 3, 4, 5, 6, 7, 8, 9], [2, 3, 4, 5, 6, 7, 8, 9, 1], [3, 4, 5, 6, 7, 8, 9, 1, 2], [4, 5, 6, 7, 8, 9, 1, 2, 3], [5, 6, 7, 8, 9, 1, 2, 3, 4], [6, 7, 8, 9, 1, 2, 3, 4, 5], [7, 8, 9, 1, 2, 3, 4, 5, 6], [8, 9, 1, 2, 3, 4, 5, 6, 7], [9, 1, 2, 3, 4, 5, 6, 7, 8]]\n"
     ]
    }
   ],
   "source": [
    "sample_mat = []\n",
    "for i in range(N):\n",
    "    sample_list = list(VALID_SET)\n",
    "    sample_mat.append(rotate(sample_list, i))\n",
    "print(sample_mat)"
   ]
  }
 ],
 "metadata": {
  "kernelspec": {
   "display_name": "Python 3",
   "language": "python",
   "name": "python3"
  },
  "language_info": {
   "codemirror_mode": {
    "name": "ipython",
    "version": 3
   },
   "file_extension": ".py",
   "mimetype": "text/x-python",
   "name": "python",
   "nbconvert_exporter": "python",
   "pygments_lexer": "ipython3",
   "version": "3.8.2"
  }
 },
 "nbformat": 4,
 "nbformat_minor": 4
}
