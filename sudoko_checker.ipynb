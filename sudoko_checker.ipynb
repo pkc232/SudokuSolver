{
 "cells": [
  {
   "cell_type": "code",
   "execution_count": 2,
   "metadata": {},
   "outputs": [],
   "source": [
    "from math import sqrt"
   ]
  },
  {
   "cell_type": "code",
   "execution_count": 16,
   "metadata": {},
   "outputs": [],
   "source": [
    "N = 9 # no of rows, no of cols, no of digits\n",
    "SQ_N = int(sqrt(N))"
   ]
  },
  {
   "cell_type": "code",
   "execution_count": 38,
   "metadata": {},
   "outputs": [
    {
     "data": {
      "text/plain": [
       "3"
      ]
     },
     "execution_count": 38,
     "metadata": {},
     "output_type": "execute_result"
    }
   ],
   "source": [
    "SQ_N"
   ]
  },
  {
   "cell_type": "code",
   "execution_count": 4,
   "metadata": {},
   "outputs": [],
   "source": [
    "VALID_SET = set(range(1,N+1))"
   ]
  },
  {
   "cell_type": "code",
   "execution_count": 12,
   "metadata": {},
   "outputs": [],
   "source": [
    "def is_valid_square(mat, start_row, start_col):\n",
    "    current_set = {}\n",
    "    for i in range(start_row, start_row+SQ_N):\n",
    "        for j in range(start_col, start_col+SQ_N):\n",
    "            current_set.add(mat[i][j])\n",
    "    return current_set == VALID_SET\n",
    "\n",
    "def check_squares(mat):\n",
    "    is_valid_conf = True\n",
    "    start_row = 0\n",
    "    for i in range(SQ_N):\n",
    "        start_col = 0\n",
    "        for j in range(SQ_N):\n",
    "            is_valid_conf &= is_valid_square(mat, start_row, start_col)\n",
    "            start_col += SQ_N\n",
    "        start_row += SQ_N\n",
    "    return is_valid_conf"
   ]
  },
  {
   "cell_type": "code",
   "execution_count": 13,
   "metadata": {},
   "outputs": [],
   "source": [
    "def is_valid_row(mat, row_no):\n",
    "    current_set = {}\n",
    "    for i in range(N):\n",
    "        current_set.add(mat[row_no][i])\n",
    "    return current_set == VALID_SET\n",
    "\n",
    "def check_rows(mat):\n",
    "    valid_rows = True\n",
    "    for i in range(N):\n",
    "        "
   ]
  },
  {
   "cell_type": "code",
   "execution_count": 10,
   "metadata": {},
   "outputs": [],
   "source": [
    "def is_valid_configuration(mat):\n",
    "    \n",
    "    is_valid_conf = True\n",
    "    is_valid_conf &= check_squares(mat)"
   ]
  },
  {
   "cell_type": "code",
   "execution_count": 14,
   "metadata": {},
   "outputs": [],
   "source": [
    "def rotate(l, n):\n",
    "    return l[n:] + l[:n]"
   ]
  },
  {
   "cell_type": "code",
   "execution_count": 109,
   "metadata": {},
   "outputs": [
    {
     "name": "stdout",
     "output_type": "stream",
     "text": [
      "[[1, 2, 3, 4, 5, 6, 7, 8, 9], [4, 5, 6, 7, 8, 9, 1, 2, 3], [7, 8, 9, 1, 2, 3, 4, 5, 6], [1, 2, 3, 4, 5, 6, 7, 8, 9], [4, 5, 6, 7, 8, 9, 1, 2, 3], [7, 8, 9, 1, 2, 3, 4, 5, 6], [1, 2, 3, 4, 5, 6, 7, 8, 9], [4, 5, 6, 7, 8, 9, 1, 2, 3], [7, 8, 9, 1, 2, 3, 4, 5, 6]]\n"
     ]
    }
   ],
   "source": [
    "sample_mat = []\n",
    "for i in range(N):\n",
    "    sample_list = list(VALID_SET)\n",
    "    sample_mat.append(rotate(sample_list, (i*3)%9))\n",
    "print(sample_mat)"
   ]
  },
  {
   "cell_type": "code",
   "execution_count": 92,
   "metadata": {},
   "outputs": [],
   "source": [
    "def print_sudoku(mat):\n",
    "    for i in range(N):\n",
    "        if i%SQ_N == 0:\n",
    "            print(\"-\"*38)\n",
    "        for j in range(N):\n",
    "            if j%SQ_N == 0:\n",
    "                print('|', end='  ')\n",
    "            print(mat[i][j], end='  ')\n",
    "        print('|')\n",
    "    print(\"-\"*38)"
   ]
  },
  {
   "cell_type": "code",
   "execution_count": 110,
   "metadata": {},
   "outputs": [
    {
     "name": "stdout",
     "output_type": "stream",
     "text": [
      "--------------------------------------\n",
      "|  1  2  3  |  4  5  6  |  7  8  9  |\n",
      "|  4  5  6  |  7  8  9  |  1  2  3  |\n",
      "|  7  8  9  |  1  2  3  |  4  5  6  |\n",
      "--------------------------------------\n",
      "|  1  2  3  |  4  5  6  |  7  8  9  |\n",
      "|  4  5  6  |  7  8  9  |  1  2  3  |\n",
      "|  7  8  9  |  1  2  3  |  4  5  6  |\n",
      "--------------------------------------\n",
      "|  1  2  3  |  4  5  6  |  7  8  9  |\n",
      "|  4  5  6  |  7  8  9  |  1  2  3  |\n",
      "|  7  8  9  |  1  2  3  |  4  5  6  |\n",
      "--------------------------------------\n"
     ]
    }
   ],
   "source": [
    "print_sudoku(sample_mat)"
   ]
  },
  {
   "cell_type": "code",
   "execution_count": 111,
   "metadata": {},
   "outputs": [],
   "source": [
    "sudoku = \"\"\"\n",
    "7\t2\t6\t4\t9\t3\t8\t1\t5\n",
    "3\t1\t5\t7\t2\t8\t9\t4\t6\n",
    "4\t8\t9\t6\t5\t1\t2\t3\t7\n",
    "8\t5\t2\t1\t4\t7\t6\t9\t3\n",
    "6\t7\t3\t9\t8\t5\t1\t2\t4\n",
    "9\t4\t1\t3\t6\t2\t7\t5\t8\n",
    "1\t9\t4\t8\t3\t6\t5\t7\t2\n",
    "5\t6\t7\t2\t1\t4\t3\t8\t9\n",
    "2\t3\t8\t5\t7\t9\t4\t6\t1\n",
    "\"\"\""
   ]
  },
  {
   "cell_type": "code",
   "execution_count": 113,
   "metadata": {},
   "outputs": [],
   "source": [
    "lst = sudoku.split()"
   ]
  },
  {
   "cell_type": "code",
   "execution_count": 116,
   "metadata": {},
   "outputs": [],
   "source": [
    "mat = [[int(x) for x in lst[i*9:i*9+9]] for i in range(0,9)]"
   ]
  },
  {
   "cell_type": "code",
   "execution_count": 117,
   "metadata": {},
   "outputs": [
    {
     "data": {
      "text/plain": [
       "[[7, 2, 6, 4, 9, 3, 8, 1, 5],\n",
       " [3, 1, 5, 7, 2, 8, 9, 4, 6],\n",
       " [4, 8, 9, 6, 5, 1, 2, 3, 7],\n",
       " [8, 5, 2, 1, 4, 7, 6, 9, 3],\n",
       " [6, 7, 3, 9, 8, 5, 1, 2, 4],\n",
       " [9, 4, 1, 3, 6, 2, 7, 5, 8],\n",
       " [1, 9, 4, 8, 3, 6, 5, 7, 2],\n",
       " [5, 6, 7, 2, 1, 4, 3, 8, 9],\n",
       " [2, 3, 8, 5, 7, 9, 4, 6, 1]]"
      ]
     },
     "execution_count": 117,
     "metadata": {},
     "output_type": "execute_result"
    }
   ],
   "source": [
    "mat"
   ]
  },
  {
   "cell_type": "code",
   "execution_count": 118,
   "metadata": {},
   "outputs": [
    {
     "name": "stdout",
     "output_type": "stream",
     "text": [
      "--------------------------------------\n",
      "|  7  2  6  |  4  9  3  |  8  1  5  |\n",
      "|  3  1  5  |  7  2  8  |  9  4  6  |\n",
      "|  4  8  9  |  6  5  1  |  2  3  7  |\n",
      "--------------------------------------\n",
      "|  8  5  2  |  1  4  7  |  6  9  3  |\n",
      "|  6  7  3  |  9  8  5  |  1  2  4  |\n",
      "|  9  4  1  |  3  6  2  |  7  5  8  |\n",
      "--------------------------------------\n",
      "|  1  9  4  |  8  3  6  |  5  7  2  |\n",
      "|  5  6  7  |  2  1  4  |  3  8  9  |\n",
      "|  2  3  8  |  5  7  9  |  4  6  1  |\n",
      "--------------------------------------\n"
     ]
    }
   ],
   "source": [
    "print_sudoku(mat)"
   ]
  },
  {
   "cell_type": "code",
   "execution_count": 127,
   "metadata": {},
   "outputs": [],
   "source": [
    "from unittest import TestCase\n",
    "from unittest import main as unit_main\n",
    "from sudoko import SudokuSolver\n",
    "  \n",
    "class SudokuTest(TestCase): \n",
    "\n",
    "    sudoku = SudokuSolver(3)\n",
    "\n",
    "    def rotate(self, l, n):\n",
    "        return l[n:] + l[:n]\n",
    "\n",
    "    def get_sample_mat_valid(self):\n",
    "        sudoku =    \"\"\"\n",
    "                    7\t2\t6\t4\t9\t3\t8\t1\t5\n",
    "                    3\t1\t5\t7\t2\t8\t9\t4\t6\n",
    "                    4\t8\t9\t6\t5\t1\t2\t3\t7\n",
    "                    8\t5\t2\t1\t4\t7\t6\t9\t3\n",
    "                    6\t7\t3\t9\t8\t5\t1\t2\t4\n",
    "                    9\t4\t1\t3\t6\t2\t7\t5\t8\n",
    "                    1\t9\t4\t8\t3\t6\t5\t7\t2\n",
    "                    5\t6\t7\t2\t1\t4\t3\t8\t9\n",
    "                    2\t3\t8\t5\t7\t9\t4\t6\t1\n",
    "                    \"\"\"\n",
    "        lst = sudoku.split()\n",
    "        mat = [[int(x) for x in lst[i*9:i*9+9]] for i in range(0,9)]\n",
    "        return mat\n",
    "    \n",
    "    def get_sample_mat_invalid(self):\n",
    "        sample_mat = []\n",
    "        for i in range(self.sudoku.N):\n",
    "            sample_list = list(self.sudoku.VALID_SET)\n",
    "            sample_mat.append(self.rotate(sample_list, i))\n",
    "        return sample_mat\n",
    "    \n",
    "    def test_valid_rows(self):\n",
    "        mat = self.get_sample_mat_valid()\n",
    "        self.sudoku.print_sudoku(mat)\n",
    "#         self.assertTrue(self.sudoku.check_rows(mat))\n",
    "    \n",
    "    def test_valid_cols(self):\n",
    "        mat = self.get_sample_mat_valid()\n",
    "        self.assertTrue(self.sudoku.check_cols(mat))\n",
    "    \n",
    "    def test_valid_squares(self):\n",
    "        mat = self.get_sample_mat_valid()\n",
    "        self.assertTrue(self.sudoku.check_squares(mat))\n",
    "    \n",
    "    def test_valid_conf(self):\n",
    "        mat = self.get_sample_mat_valid()\n",
    "        self.assertTrue(self.sudoku.is_valid_configuration(mat))"
   ]
  },
  {
   "cell_type": "code",
   "execution_count": 128,
   "metadata": {},
   "outputs": [],
   "source": [
    "stest = SudokuTest()"
   ]
  },
  {
   "cell_type": "code",
   "execution_count": 129,
   "metadata": {},
   "outputs": [
    {
     "name": "stdout",
     "output_type": "stream",
     "text": [
      "--------------------------------------\n",
      "|  7  |  2  |  6  |\n",
      "--------------------------------------\n",
      "|  3  |  1  |  5  |\n",
      "--------------------------------------\n",
      "|  4  |  8  |  9  |\n",
      "--------------------------------------\n"
     ]
    }
   ],
   "source": [
    "stest.test_valid_rows()"
   ]
  }
 ],
 "metadata": {
  "kernelspec": {
   "display_name": "Python 3",
   "language": "python",
   "name": "python3"
  },
  "language_info": {
   "codemirror_mode": {
    "name": "ipython",
    "version": 3
   },
   "file_extension": ".py",
   "mimetype": "text/x-python",
   "name": "python",
   "nbconvert_exporter": "python",
   "pygments_lexer": "ipython3",
   "version": "3.8.2"
  }
 },
 "nbformat": 4,
 "nbformat_minor": 4
}
